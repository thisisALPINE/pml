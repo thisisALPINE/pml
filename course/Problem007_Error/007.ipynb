{
 "cells": [
  {
   "source": [
    "##  $\\hat{y}$ (y_hat)"
   ],
   "cell_type": "markdown",
   "metadata": {}
  },
  {
   "cell_type": "code",
   "execution_count": 3,
   "metadata": {
    "scrolled": true
   },
   "outputs": [],
   "source": [
    "'''\n",
    "+--------------+\n",
    "| f            |\n",
    "+--------------+\n",
    "| x1 | x2 | y  |\n",
    "+----+----+----+\n",
    "| 2  | 3  | 4  |\n",
    "+----+----+----+\n",
    "| 8  | 5  | 10  |\n",
    "+----+----+----+\n",
    "| 6  | 4  | 6  |\n",
    "+----+----+----+\n",
    "| 10 | 2  | 8  |\n",
    "+----+----+----+\n",
    "| 4  | 2  | 3  |\n",
    "+----+----+----+\n",
    "| 16 | 7  | 1 |\n",
    "+----+----+----+\n",
    "'''\n",
    "\n",
    "X = [\n",
    "    [2, 3],\n",
    "    [8, 5],\n",
    "    [6, 4],\n",
    "    [10, 2],\n",
    "    [4, 2],\n",
    "    [16, 7]\n",
    "]\n",
    "\n",
    "Y = [4, 10, 6, 8, 3, 1]\n",
    "\n",
    "\n",
    "def f_hat(x1, x2):\n",
    "    return int(x1/2 + x2)\n",
    "\n",
    "Y_hat = [f_hat(x[0], x[1]) for x in X]\n",
    "Y_hat\n",
    "#TBD Compute Y_hat where y_hat = f_hat(x1, x2)\n"
   ]
  },
  {
   "source": [
    "## How far off are we? (Y vs $\\hat{Y}$)"
   ],
   "cell_type": "markdown",
   "metadata": {}
  },
  {
   "cell_type": "code",
   "execution_count": 6,
   "metadata": {},
   "outputs": [],
   "source": [
    "#TBD Compute Total(sum) Error between Y and Y_hat\n",
    "total_error = sum ([ z[0] - z[1] for z in zip(Y, Y_hat) ])\n",
    "#TBD Compute Total absolute Error between Y and Y_hat\n",
    "total_abs_error = sum ([ abs(z[0] - z[1]) for z in zip(Y, Y_hat) ])\n",
    "#TBD Compute Mean absolute Error between Y and Y_hat\n",
    "mean_abs_error = total_abs_error / len(Y)\n",
    "mean_abs_error\n",
    "#TBD Compute Mean Squared Error between Y and Y_hat\n",
    "mean_squared_error = sum([(z[0] - z[1])**2 for z in zip(Y, Y_hat)]) / len(Y)\n",
    "mean_squared_error"
   ]
  },
  {
   "cell_type": "code",
   "execution_count": null,
   "metadata": {},
   "outputs": [],
   "source": [
    "import numpy as np\n",
    "\n",
    "Y = np.array(Y)\n",
    "Y_hat = np.array(Y_hat)\n",
    "\n",
    "print(np.sum(np.square(Y - Y_hat)))\n",
    "\n",
    "from sklearn.metrics import mean_absolute_error, mean_squared_error\n",
    "#Use sklearn\n",
    "#TBD Compute Mean absolute Error between Y and Y_hat\n",
    "#TBD Compute Mean squared Error between Y and Y_hat"
   ]
  }
 ],
 "metadata": {
  "kernelspec": {
   "display_name": "Python 3",
   "language": "python",
   "name": "python3"
  },
  "language_info": {
   "codemirror_mode": {
    "name": "ipython",
    "version": 3
   },
   "file_extension": ".py",
   "mimetype": "text/x-python",
   "name": "python",
   "nbconvert_exporter": "python",
   "pygments_lexer": "ipython3",
   "version": "3.8.2-final"
  }
 },
 "nbformat": 4,
 "nbformat_minor": 2
}