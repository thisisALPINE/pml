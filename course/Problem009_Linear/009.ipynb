{
 "cells": [
  {
   "source": [
    "## What does linear model do\n"
   ],
   "cell_type": "markdown",
   "metadata": {}
  },
  {
   "source": [
    "## 1-dimensional input (feature)"
   ],
   "cell_type": "markdown",
   "metadata": {}
  },
  {
   "cell_type": "code",
   "execution_count": 2,
   "metadata": {
    "scrolled": true
   },
   "outputs": [],
   "source": [
    "import numpy as np\n",
    "from sklearn import linear_model\n",
    "X_train = np.array([[1],[2],[3],[4]])\n",
    "Y_train = np.array([1,2,3,4])\n",
    "\n",
    "#TBD fit linear model and predict for x=7\n",
    "model = linear_model.LinearRegression()\n",
    "model.fit(X_train, Y_train)\n",
    "model.predict([[7]])"
   ]
  },
  {
   "cell_type": "code",
   "execution_count": 4,
   "metadata": {},
   "outputs": [],
   "source": [
    "X_train = np.array([[1],[2],[3],[4]])\n",
    "Y_train = np.array([3,4,5,6])\n",
    "\n",
    "#TBD fit linear model and predict for x=7\n",
    "model = linear_model.LinearRegression()\n",
    "model.fit(X_train, Y_train)\n",
    "model.predict([[7]])"
   ]
  },
  {
   "cell_type": "code",
   "execution_count": null,
   "metadata": {},
   "outputs": [],
   "source": [
    "X_train = np.array([[0],[0.1],[2],[2.1],[4],[4.1]])\n",
    "Y_train = np.array([0,2,1,3,2,4])\n",
    "\n",
    "#TBD fit linear model and predict for x=4\n",
    "model = linear_model.LinearRegression()\n",
    "model.fit(X_train, Y_train)\n",
    "model.predict([[4]])"
   ]
  },
  {
   "cell_type": "code",
   "execution_count": 5,
   "metadata": {},
   "outputs": [],
   "source": [
    "#TBD Plot above 3 models"
   ]
  },
  {
   "source": [
    "## 2 dimensional input (features)"
   ],
   "cell_type": "markdown",
   "metadata": {}
  },
  {
   "cell_type": "code",
   "execution_count": 6,
   "metadata": {},
   "outputs": [],
   "source": [
    "from random import random, seed\n",
    "\n",
    "n = 50\n",
    "seed(1)\n",
    "X_train = [[random(), random()] for i in range(n)]\n",
    "Y_train = [random() for i in range(n)]\n",
    "\n",
    "#TBD fit linear model and predict for x=(7,8)"
   ]
  },
  {
   "cell_type": "code",
   "execution_count": 7,
   "metadata": {},
   "outputs": [],
   "source": [
    "#Plot above model"
   ]
  },
  {
   "source": [
    "## 13 dimensional input (features)"
   ],
   "cell_type": "markdown",
   "metadata": {}
  },
  {
   "cell_type": "code",
   "execution_count": null,
   "metadata": {},
   "outputs": [],
   "source": [
    "#TBD Load boston dataset\n",
    "from sklearn.datasets import load_boston\n",
    "house_data = load_boston()\n",
    "dir(house_data)"
   ]
  },
  {
   "cell_type": "code",
   "execution_count": null,
   "metadata": {},
   "outputs": [],
   "source": [
    "#TBD Split into Train and Test dataset. random 90% 10%\n",
    "from sklearn.model_selection import train_test_split\n",
    "\n",
    "X_train, X_test, Y_train, Y_test = train_test_split(house_data.data, house_data.target, train_size=0.9, random_state=101)\n",
    "len(X_train)\n",
    "len(X_test)"
   ]
  },
  {
   "cell_type": "code",
   "execution_count": null,
   "metadata": {},
   "outputs": [],
   "source": [
    "#TBD Fit linear model on Training data\n",
    "model = linear_model.LinearRegression()\n",
    "model.fit(X_train, Y_train)"
   ]
  },
  {
   "cell_type": "code",
   "execution_count": null,
   "metadata": {},
   "outputs": [],
   "source": [
    "#TBD Predict for Test data\n",
    "Y_prediction = model.predict(X_test)"
   ]
  },
  {
   "cell_type": "code",
   "execution_count": 8,
   "metadata": {},
   "outputs": [],
   "source": [
    "#TBD Mean squared error for your predictions\n",
    "mean_squared_error = sum([(z[0] - z[1])**2 for z in zip(Y_test, Y_prediction)]) / len(Y_test)\n",
    "mean_squared_error"
   ]
  },
  {
   "source": [
    "## Problems with linear model\n",
    "![title](../../img/anscombe_quartet.png)\n",
    "\n",
    "### Ansombe Quartet\n",
    "### y = x/2 + 3"
   ],
   "cell_type": "markdown",
   "metadata": {}
  }
 ],
 "metadata": {
  "kernelspec": {
   "display_name": "Python 3",
   "language": "python",
   "name": "python3"
  },
  "language_info": {
   "codemirror_mode": {
    "name": "ipython",
    "version": 3
   },
   "file_extension": ".py",
   "mimetype": "text/x-python",
   "name": "python",
   "nbconvert_exporter": "python",
   "pygments_lexer": "ipython3",
   "version": "3.8.2-final"
  }
 },
 "nbformat": 4,
 "nbformat_minor": 2
}